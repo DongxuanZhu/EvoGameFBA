{
 "cells": [
  {
   "attachments": {},
   "cell_type": "markdown",
   "id": "08ce5792-bb03-483b-9e6b-c1dbdc7db030",
   "metadata": {},
   "source": [
    "# Introduction"
   ]
  },
  {
   "attachments": {},
   "cell_type": "markdown",
   "id": "88446af0",
   "metadata": {},
   "source": [
    "(work in process...)"
   ]
  },
  {
   "attachments": {},
   "cell_type": "markdown",
   "id": "a3c84ed4-f625-4670-bb0d-d557660c8d45",
   "metadata": {},
   "source": [
    "## 1. Construction of E.coli strains with different auxotrophic behaviors"
   ]
  },
  {
   "attachments": {},
   "cell_type": "markdown",
   "id": "2b985071-1df5-47f7-9c34-6b2ba01d954f",
   "metadata": {},
   "source": [
    "**global medium context**:\\\n",
    "anaerobic\t minimal\t conditions, glucose as sole carbon source. \\\n",
    "    glucose exchange >= -10 mmol/gDW/h, \\\n",
    "    minimal salt exchange >= -1000 mmol/gDW/h, \\\n",
    "    other exchange fluxes = 0.\t\\\n",
    "    all reactions <= 1000 mmol/gDW/h, \\\n",
    "    ATP maintenance flux = 8.39 mmol/gDW/h."
   ]
  },
  {
   "cell_type": "code",
   "execution_count": null,
   "id": "19977f8f-4f65-414e-a563-676816d1d07e",
   "metadata": {
    "tags": []
   },
   "outputs": [],
   "source": [
    "## Import E.coli model ##\n",
    "\n",
    "import cobra\n",
    "from cobra.io import read_sbml_model\n",
    "\n",
    "# model = read_sbml_model(\"../data/iJR904.xml\")\n",
    "model = read_sbml_model(\"../data/iJO1366.xml\")\n",
    "# model = read_sbml_model(\"../data/iJN1463.xml\")"
   ]
  },
  {
   "cell_type": "code",
   "execution_count": null,
   "id": "caea4c4e-49f2-4f33-af11-92a7a3d37a74",
   "metadata": {},
   "outputs": [],
   "source": [
    "## Define global medium ##\n",
    "import pandas as pd\n",
    "#1. Obtain M9 metabolites from carveme library\n",
    "medium_lib = pd.read_csv(\"../data/media_db.tsv\",sep=\"\\t\")\n",
    "\n",
    "compound_M9 = medium_lib[medium_lib[\"medium\"] == \"M9\"]\n",
    "\n",
    "#2. Obtain M9 exchange reactions\n",
    "medium_M9 = [\"EX_\"+str(compound)+\"_e\" for compound in compound_M9[\"compound\"]]\n",
    "print(medium_M9)"
   ]
  },
  {
   "cell_type": "code",
   "execution_count": null,
   "id": "4a5fb7b0-a0ff-48e2-abe6-72d55b5399b2",
   "metadata": {
    "tags": []
   },
   "outputs": [],
   "source": [
    "#3. Define medium based on M9 salt exchange reactions + glucose exchange\n",
    "import numpy as np \n",
    "\n",
    "lb_global = -1000. #lower bound of minimal salt exchange\n",
    "ub_global = 1000. #upper bound of all reactions\n",
    "glucose_initial = 10.0\n",
    "medium = dict(zip(medium_M9,np.repeat( - lb_global,len(medium_M9))))\n",
    "\n",
    "medium[\"EX_o2_e\"] = 2.0 #anaerobic condition\n",
    "medium[\"EX_glc__D_e\"] = glucose_initial\n",
    "\n",
    "print(medium)\n",
    "#assign medium to global model\n",
    "model.medium = medium\n",
    "\n",
    "#constrain maintenance ATP flux as 8.39\n",
    "model.reactions.get_by_id(\"ATPM\").lower_bound = 8.39\n",
    "model.reactions.get_by_id(\"ATPM\").upper_bound = 8.39\n",
    "#default ATPM == 0.92"
   ]
  },
  {
   "cell_type": "code",
   "execution_count": 4,
   "id": "a66cffbb-0d28-46ee-850b-250a8790ff40",
   "metadata": {
    "tags": []
   },
   "outputs": [
    {
     "data": {
      "text/html": [
       "<div>\n",
       "<style scoped>\n",
       "    .dataframe tbody tr th:only-of-type {\n",
       "        vertical-align: middle;\n",
       "    }\n",
       "\n",
       "    .dataframe tbody tr th {\n",
       "        vertical-align: top;\n",
       "    }\n",
       "\n",
       "    .dataframe thead th {\n",
       "        text-align: right;\n",
       "    }\n",
       "</style>\n",
       "<table border=\"1\" class=\"dataframe\">\n",
       "  <thead>\n",
       "    <tr style=\"text-align: right;\">\n",
       "      <th></th>\n",
       "      <th>Amino acid</th>\n",
       "      <th>Gene knockouts</th>\n",
       "      <th>Auxotrophy</th>\n",
       "    </tr>\n",
       "  </thead>\n",
       "  <tbody>\n",
       "    <tr>\n",
       "      <th>9</th>\n",
       "      <td>ile</td>\n",
       "      <td>b3770</td>\n",
       "      <td>EX_ile__L_e</td>\n",
       "    </tr>\n",
       "    <tr>\n",
       "      <th>11</th>\n",
       "      <td>lys</td>\n",
       "      <td>b2838</td>\n",
       "      <td>EX_lys__L_e</td>\n",
       "    </tr>\n",
       "  </tbody>\n",
       "</table>\n",
       "</div>"
      ],
      "text/plain": [
       "   Amino acid Gene knockouts   Auxotrophy\n",
       "9         ile          b3770  EX_ile__L_e\n",
       "11        lys          b2838  EX_lys__L_e"
      ]
     },
     "execution_count": 4,
     "metadata": {},
     "output_type": "execute_result"
    }
   ],
   "source": [
    "## Knockout genes to construct different auxotrophic strains & \n",
    "## Constrain lower bound of exchange reactions to impose amino acid leakiness ##\n",
    "\n",
    "from copy import deepcopy \n",
    "import pandas as pd\n",
    "\n",
    "#1. get list of genes to be knocked out for each auxotrophic phenotype\n",
    "amino_df = pd.read_csv(\"../data/amino_gene_knockout.tsv\",sep=\"\\t\")\n",
    "\n",
    "#select only one pair of amino acid as an example (construction based on more amino acid might require HPC)\n",
    "amino_df = amino_df.iloc[[9,11]]\n",
    "# amino_df = amino_df.iloc[[1,10]]\n",
    "# amino_df = amino_df.iloc[[0,1]]\n",
    "amino_df"
   ]
  },
  {
   "cell_type": "code",
   "execution_count": null,
   "id": "455eaeaf-fe46-4288-bbe7-994ab7a1ec61",
   "metadata": {
    "tags": []
   },
   "outputs": [],
   "source": [
    "#2. knockout process\n",
    "\n",
    "#initialization \n",
    "strains = {} #dictionary to store modified strains, keyed by pair of amino acid considered\n",
    "\n",
    "for index1,row1 in amino_df.iterrows(): #loop through the first amino acid that strain may be auxotrophic to\n",
    "    amino1 = row1[0]\n",
    "    genes1 = row1[1].split(\",\")\n",
    "    \n",
    "    for index2,row2 in amino_df.loc[index1:].iterrows(): #loop through the second amino acid that strain may be auxotrophic to\n",
    "        amino2 = row2[0]\n",
    "        if amino2 == amino1: #exclude the same amino acid\n",
    "            next\n",
    "            \n",
    "        else:\n",
    "            genes2 = row2[1].split(\",\")\n",
    "\n",
    "            #define phenotype 00 (auxotrophic to both) for this pair of amino acid\n",
    "            key00 = str(amino1) + \"_\" + str(amino2) + \"_\" + \"00\"\n",
    "            strains[key00] = deepcopy(model)\n",
    "            \n",
    "            key01 = str(amino1) + \"_\" + str(amino2) + \"_\" + \"01\"\n",
    "            strains[key01] = deepcopy(model)\n",
    "            #define phenotype 10 (auxotrophic to the first) for this pair of amino acid\n",
    "            key02 = str(amino1) + \"_\" + str(amino2) + \"_\" + \"02\"\n",
    "            strains[key02] = deepcopy(model)   \n",
    "            #define phenotype 01 (auxotrophic to both) for this pair of amino acid\n",
    "            key10 = str(amino1) + \"_\" + str(amino2) + \"_\" + \"10\"\n",
    "            strains[key10] = deepcopy(model)\n",
    "            #define phenotype 11 (leaky to both) for this pair of amino acid\n",
    "            key20 = str(amino1) + \"_\" + str(amino2) + \"_\" + \"20\"\n",
    "            strains[key20] = deepcopy(model)\n",
    "            #define phenotype 22 (leaky to both) for this pair of amino acid\n",
    "            key22 = str(amino1) + \"_\" + str(amino2) + \"_\" + \"22\"\n",
    "            strains[key22] = deepcopy(model)\n",
    "            \n",
    "            \n",
    "            for gene in genes1: \n",
    "                #knock out relevant genes for strains auxotrophic to the 1st amino acid\n",
    "                strains_00 = getattr(strains[key00].genes, gene)\n",
    "                strains_00.knock_out()\n",
    "                \n",
    "                strains_01 = getattr(strains[key01].genes, gene)\n",
    "                strains_01.knock_out()\n",
    "\n",
    "                strains_02 = getattr(strains[key02].genes, gene)\n",
    "                strains_02.knock_out()\n",
    "\n",
    "            print(f\"for strain auxotrophic to {amino1} ({key01},{key02}), genes {genes1} are knocked out.\")\n",
    "\n",
    "            for gene in genes2: #knock out relevant genes for strains auxotrophic to the 2nd amino acid\n",
    "                strains_00 = getattr(strains[key00].genes, gene)\n",
    "                strains_00.knock_out()                \n",
    "\n",
    "                strains_10 = getattr(strains[key10].genes, gene)\n",
    "                strains_10.knock_out()\n",
    "\n",
    "                strains_20 = getattr(strains[key20].genes, gene)\n",
    "                strains_20.knock_out()\n",
    "            \n",
    "                \n",
    "            print(f\"for strain auxotrophic to {amino2} ({key20},{key10}), genes {genes2} are knocked out.\")\n",
    "            \n",
    "print(\"\\n Knockout finished, the modified strains are:\",strains)"
   ]
  },
  {
   "attachments": {},
   "cell_type": "markdown",
   "id": "af288b07-09e7-494b-b82d-9a3af10a1e2e",
   "metadata": {},
   "source": [
    "## 2. Monoculture Tests - FBA growth under different metabolite secretion/uptake intensities"
   ]
  },
  {
   "cell_type": "code",
   "execution_count": 6,
   "id": "82fc630d-fee0-41f4-b24f-fdaa57182ea8",
   "metadata": {},
   "outputs": [],
   "source": [
    "import numpy as np\n",
    "#create dataframe to vary leakiness level of selected amino acid pair\n",
    "start = 0.0\n",
    "stop = 0.2625\n",
    "interval = 0.0125\n",
    "# start = 0.0\n",
    "# stop = 5.05\n",
    "# interval = 0.05\n",
    "leakiness_range = np.arange(start,stop, interval, dtype=float)\n",
    "leakiness_range = np.round(leakiness_range, decimals=4)\n",
    "leakiness_data = {\"ile_leakiness\": leakiness_range, \"lys_leakiness\": leakiness_range}\n",
    "\n",
    "leakiness_data\n",
    "leakiness_df = pd.DataFrame(leakiness_data)"
   ]
  },
  {
   "cell_type": "code",
   "execution_count": 7,
   "id": "80bcc4bc-4dac-4564-b34e-1eeb9e025a3c",
   "metadata": {},
   "outputs": [],
   "source": [
    "def get_additional_nutrient(concentration, Vmax, K):\n",
    "    \"\"\"Use external concentrations to bound the uptake flux of nutritious metabolites.\"\"\"\n",
    "    new_max_import = - Vmax * concentration /( K + concentration) #arbitrary value imitating shape of monod equation\n",
    "    if abs(new_max_import) >= concentration:\n",
    "        return - concentration #negative value, will be added to lower bound\n",
    "    else:\n",
    "        return new_max_import"
   ]
  },
  {
   "cell_type": "code",
   "execution_count": 8,
   "id": "d03ef588-1f16-4bce-9969-53db109618fe",
   "metadata": {},
   "outputs": [],
   "source": [
    "def one_FBA(tmp_model,sec_rxn,up_rxn,sec,up,glucose=None):\n",
    "    with tmp_model:\n",
    "        #secretion level\n",
    "        if glucose == None:\n",
    "            glc = 10.\n",
    "        else:\n",
    "            glc = glucose\n",
    "        tmp_model.reactions.get_by_id(sec_rxn).lower_bound = sec\n",
    "        tmp_model.reactions.get_by_id(up_rxn).lower_bound = - up - 0.0001\n",
    "        tmp_model.reactions.get_by_id(up_rxn).upper_bound = - up\n",
    "        tmp_model.reactions.get_by_id(\"EX_glc__D_e\").lower_bound = - glc\n",
    "        try:\n",
    "            growth = tmp_model.optimize().objective_value\n",
    "            glc_flux = tmp_model.optimize().fluxes[\"EX_glc__D_e\"]\n",
    "        except:\n",
    "            growth = -1.\n",
    "            glc_flux = 0.\n",
    "    return growth,glc_flux\n",
    "        \n",
    "        "
   ]
  },
  {
   "cell_type": "code",
   "execution_count": 56,
   "id": "85b80426-5283-4240-8ffe-c31f7d702ec0",
   "metadata": {
    "jupyter": {
     "source_hidden": true
    },
    "tags": []
   },
   "outputs": [
    {
     "name": "stderr",
     "output_type": "stream",
     "text": [
      "Overall Progress: 100%|██████████████████████████████████████████████████████████████████████| 441/441 [00:41<00:00, 10.72it/s]\n"
     ]
    }
   ],
   "source": [
    "import pandas as pd\n",
    "import warnings\n",
    "from tqdm import tqdm\n",
    "os_experiment = []\n",
    "warnings.filterwarnings(\"error\")\n",
    "mult = 1\n",
    "overall_progress = tqdm(total=len(leakiness_df)**2, desc=\"Overall Progress\")\n",
    "for leak1 in leakiness_df[\"ile_leakiness\"].tolist():\n",
    "    for leak2 in leakiness_df[\"leu_leakiness\"].tolist():\n",
    "        key02 = \"ile_leu_02\"\n",
    "        growth_02 = one_FBA(strains[key02],\"EX_leu__L_e\",\"EX_ile__L_e\",leak2*mult,leak1)\n",
    "        data_02 = (\n",
    "        key02,\n",
    "        leak2*mult,\n",
    "        leak1,\n",
    "        growth_02       \n",
    "    ) \n",
    "        os_experiment.append(data_02)\n",
    "        \n",
    "        key20 = \"ile_leu_20\"\n",
    "        growth_20 = one_FBA(strains[key20],\"EX_ile__L_e\",\"EX_leu__L_e\",leak1*mult,leak2)\n",
    "        data_20 = (\n",
    "        key20,\n",
    "        leak1*mult,\n",
    "        leak2,\n",
    "        growth_20       \n",
    "    ) \n",
    "        os_experiment.append(data_20) \n",
    "        overall_progress.update(1)\n",
    "overall_progress.close()\n",
    "os_experiment_df = pd.DataFrame(os_experiment, columns = [\"key_strain\",\"sec\",\"up\",\"growth\"])\n"
   ]
  },
  {
   "cell_type": "code",
   "execution_count": null,
   "id": "808d7865",
   "metadata": {},
   "outputs": [],
   "source": [
    "os_experiment_df.to_csv(f\"../results/csv/one_shot/compare_sec_up_growth_{start}_{stop}_{interval}.csv\")"
   ]
  }
 ],
 "metadata": {
  "kernelspec": {
   "display_name": "bioinfo",
   "language": "python",
   "name": "bioinfo"
  },
  "language_info": {
   "codemirror_mode": {
    "name": "ipython",
    "version": 3
   },
   "file_extension": ".py",
   "mimetype": "text/x-python",
   "name": "python",
   "nbconvert_exporter": "python",
   "pygments_lexer": "ipython3",
   "version": "3.10.12"
  }
 },
 "nbformat": 4,
 "nbformat_minor": 5
}
